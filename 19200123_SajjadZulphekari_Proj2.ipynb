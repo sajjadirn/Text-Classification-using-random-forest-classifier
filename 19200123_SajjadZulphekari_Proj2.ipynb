{
 "cells": [
  {
   "cell_type": "markdown",
   "metadata": {},
   "source": [
    "# COMP41680: Data Science in Python\n",
    "\n",
    "# ASSIGNMENT 2 \n",
    "\n",
    "# Student Number : 19200123"
   ]
  },
  {
   "cell_type": "code",
   "execution_count": 1,
   "metadata": {},
   "outputs": [],
   "source": [
    "#Importing all the necessary packages\n",
    "import urllib3\n",
    "import re\n",
    "import requests\n",
    "from bs4 import BeautifulSoup\n",
    "import pandas as pd\n",
    "import nltk\n",
    "import numpy as np\n",
    "from nltk.corpus import stopwords\n",
    "stop_list = set(stopwords.words('english'))\n",
    "from nltk.stem.porter import PorterStemmer\n",
    "stemmer = PorterStemmer()\n",
    "from nltk.stem import WordNetLemmatizer\n",
    "lemmatizer = WordNetLemmatizer()\n",
    "from tokenize import tokenize\n",
    "from sklearn.feature_extraction.text import TfidfVectorizer\n",
    "from sklearn.neighbors import KNeighborsClassifier\n",
    "from sklearn.ensemble import RandomForestClassifier\n",
    "from sklearn.model_selection import train_test_split\n",
    "from sklearn.metrics import classification_report, confusion_matrix, accuracy_score\n",
    "import seaborn as sn\n",
    "import matplotlib.pyplot as plt\n",
    "from sklearn import metrics\n",
    "%matplotlib inline\n"
   ]
  },
  {
   "cell_type": "markdown",
   "metadata": {},
   "source": [
    "# TASK 1"
   ]
  },
  {
   "cell_type": "markdown",
   "metadata": {},
   "source": [
    "## Creating a function to scrape all the data from a website in a html format"
   ]
  },
  {
   "cell_type": "code",
   "execution_count": 2,
   "metadata": {},
   "outputs": [],
   "source": [
    "def scrape_data(url):\n",
    "    url = url\n",
    "    response = requests.get(url)\n",
    "    soup = BeautifulSoup(response.content, \"html.parser\") #Using beautifulSOup to scrape all the data\n",
    "    return soup"
   ]
  },
  {
   "cell_type": "markdown",
   "metadata": {},
   "source": [
    "#### Initializing the website link and sending it to the scrape_data function"
   ]
  },
  {
   "cell_type": "code",
   "execution_count": 3,
   "metadata": {},
   "outputs": [
    {
     "data": {
      "text/plain": [
       "<!DOCTYPE html>\n",
       "\n",
       "<html lang=\"en\">\n",
       "<head>\n",
       "<meta content=\"noindex\" name=\"robots\"/>\n",
       "<meta content=\"Content on this site is posted for teaching purposes only. Original data is from yelp.com\" name=\"description\"/>\n",
       "<meta charset=\"utf-8\"/>\n",
       "<meta content=\"IE=edge\" http-equiv=\"X-UA-Compatible\"/>\n",
       "<meta content=\"width=device-width, initial-scale=1\" name=\"viewport\"/>\n",
       "<title>Yalp Home</title>\n",
       "<link href=\"images/favicon.ico\" rel=\"shortcut icon\"/>\n",
       "<!-- Bootstrap core CSS -->\n",
       "<link href=\"assets/css/bootstrap.css\" rel=\"stylesheet\"/>\n",
       "<!-- Custom styles for this template -->\n",
       "<link href=\"assets/css/style.css\" rel=\"stylesheet\"/>\n",
       "<link href=\"assets/css/font-awesome.min.css\" rel=\"stylesheet\"/>\n",
       "<script src=\"assets/js/modernizr.js\"></script>\n",
       "</head>\n",
       "<body>\n",
       "<div class=\"container mtb\">\n",
       "<div class=\"row\">\n",
       "<div class=\"col-md-12\">\n",
       "<h3 class=\"info\"><a class=\"info\" href=\"index.html\">Yalp</a> — Home</h3>\n",
       "</div>\n",
       "</div>\n",
       "<div class=\"row\">\n",
       "<div class=\"col-md-10\" id=\"content\">\n",
       "<div id=\"all\">\n",
       "<p>Select a business category from the list below to browse customer reviews:</p>\n",
       "<div class=\"category\"><h4><a href=\"automotive_list.html\">Category: Automotive</a>  (132 businesses)</h4></div>\n",
       "<div class=\"category\"><h4><a href=\"cafes_list.html\">Category: Cafes</a>  (96 businesses)</h4></div>\n",
       "<div class=\"category\"><h4><a href=\"fashion_list.html\">Category: Fashion</a>  (159 businesses)</h4></div>\n",
       "<div class=\"category\"><h4><a href=\"gym_list.html\">Category: Gym</a>  (122 businesses)</h4></div>\n",
       "<div class=\"category\"><h4><a href=\"hair_salons_list.html\">Category: Hair and Salons</a>  (143 businesses)</h4></div>\n",
       "<div class=\"category\"><h4><a href=\"hotels_list.html\">Category: Hotels</a>  (113 businesses)</h4></div>\n",
       "<div class=\"category\"><h4><a href=\"restaurants_list.html\">Category: Restaurants</a>  (100 businesses)</h4></div>\n",
       "</div>\n",
       "</div>\n",
       "</div>\n",
       "<div class=\"footer\">\n",
       "        Content on this site is posted for teaching purposes only. \n",
       "        </div>\n",
       "</div>\n",
       "<!-- Bootstrap core JavaScript\n",
       "    ================================================== -->\n",
       "<!-- Placed at the end of the document so the pages load faster -->\n",
       "<script src=\"https://ajax.googleapis.com/ajax/libs/jquery/1.11.0/jquery.min.js\"></script>\n",
       "<script src=\"assets/js/bootstrap.min.js\"></script>\n",
       "<script src=\"assets/js/retina-1.1.0.js\"></script>\n",
       "<script src=\"assets/js/jquery.hoverdir.js\"></script>\n",
       "<script src=\"assets/js/jquery.hoverex.min.js\"></script>\n",
       "<script src=\"assets/js/jquery.isotope.min.js\"></script>\n",
       "<script src=\"assets/js/custom.js\"></script>\n",
       "</body>\n",
       "</html>"
      ]
     },
     "execution_count": 3,
     "metadata": {},
     "output_type": "execute_result"
    }
   ],
   "source": [
    "main_page_url = \"http://mlg.ucd.ie/modules/yalp/\"\n",
    "main_page_data = scrape_data(main_page_url)\n",
    "main_page_data #Contains the website data in a HTML format"
   ]
  },
  {
   "cell_type": "markdown",
   "metadata": {},
   "source": [
    "### Creating a function to extract all the anchor tags and append all the links to an arry"
   ]
  },
  {
   "cell_type": "code",
   "execution_count": 4,
   "metadata": {
    "scrolled": true
   },
   "outputs": [],
   "source": [
    "def page_links(page):\n",
    "    links = [] #initializing a blank list to store all the anchor tags \n",
    "    for link in page.find_all('a'): #using find_all to get all the anchor tags\n",
    "        links.append(link.get('href')) #using .get to get the links for the corresponding anchor tag and appending it to the list\n",
    "    return links"
   ]
  },
  {
   "cell_type": "markdown",
   "metadata": {},
   "source": [
    "#### Calling the function on the scrapped data to extract links "
   ]
  },
  {
   "cell_type": "code",
   "execution_count": 5,
   "metadata": {},
   "outputs": [
    {
     "data": {
      "text/plain": [
       "['index.html',\n",
       " 'automotive_list.html',\n",
       " 'cafes_list.html',\n",
       " 'fashion_list.html',\n",
       " 'gym_list.html',\n",
       " 'hair_salons_list.html',\n",
       " 'hotels_list.html',\n",
       " 'restaurants_list.html']"
      ]
     },
     "execution_count": 5,
     "metadata": {},
     "output_type": "execute_result"
    }
   ],
   "source": [
    "category_page_url = [] #creating a blank list to store all the links\n",
    "category_page_url = page_links(main_page_data) #calling the page_links function on the main webpage\n",
    "category_page_url #printing all the extracted links(list of categories)"
   ]
  },
  {
   "cell_type": "markdown",
   "metadata": {},
   "source": [
    "#### Selecting 3 categories"
   ]
  },
  {
   "cell_type": "code",
   "execution_count": 6,
   "metadata": {},
   "outputs": [
    {
     "data": {
      "text/plain": [
       "['http://mlg.ucd.ie/modules/yalp/automotive_list.html',\n",
       " 'http://mlg.ucd.ie/modules/yalp/cafes_list.html',\n",
       " 'http://mlg.ucd.ie/modules/yalp/fashion_list.html']"
      ]
     },
     "execution_count": 6,
     "metadata": {},
     "output_type": "execute_result"
    }
   ],
   "source": [
    "category_page_url = category_page_url[1:4]\n",
    "\n",
    "category_page_url = [main_page_url + s for s in category_page_url] #appending the main page URL to get the complete link for each category\n",
    "category_page_url #Printing the complete links for the categories "
   ]
  },
  {
   "cell_type": "markdown",
   "metadata": {},
   "source": [
    "#### Collecting all web data from each categories "
   ]
  },
  {
   "cell_type": "code",
   "execution_count": 7,
   "metadata": {},
   "outputs": [],
   "source": [
    "category_page_data = [] #creating a new list to store all the data for each category\n",
    "for link in category_page_url:\n",
    "    category_page_data.append(scrape_data(link)) #Using the scrape_data function to scrape data from link for each category link\n",
    "    "
   ]
  },
  {
   "cell_type": "markdown",
   "metadata": {},
   "source": [
    "#### Seperating each category web data into their respective variable\n"
   ]
  },
  {
   "cell_type": "code",
   "execution_count": 8,
   "metadata": {},
   "outputs": [
    {
     "data": {
      "text/plain": [
       "<!DOCTYPE html>\n",
       "\n",
       "<html lang=\"en\">\n",
       "<head>\n",
       "<meta content=\"noindex\" name=\"robots\"/>\n",
       "<meta content=\"Content on this site is posted for teaching purposes only. Original data is from yelp.com\" name=\"description\"/>\n",
       "<meta charset=\"utf-8\"/>\n",
       "<meta content=\"IE=edge\" http-equiv=\"X-UA-Compatible\"/>\n",
       "<meta content=\"width=device-width, initial-scale=1\" name=\"viewport\"/>\n",
       "<title>Yalp Reviews for Automotive</title>\n",
       "<link href=\"images/favicon.ico\" rel=\"shortcut icon\"/>\n",
       "<!-- Bootstrap core CSS -->\n",
       "<link href=\"assets/css/bootstrap.css\" rel=\"stylesheet\"/>\n",
       "<!-- Custom styles for this template -->\n",
       "<link href=\"assets/css/style.css\" rel=\"stylesheet\"/>\n",
       "<link href=\"assets/css/font-awesome.min.css\" rel=\"stylesheet\"/>\n",
       "<script src=\"assets/js/modernizr.js\"></script>\n",
       "</head>\n",
       "<body>\n",
       "<div class=\"container mtb\">\n",
       "<div class=\"row\">\n",
       "<div class=\"col-md-12\">\n",
       "<h3 class=\"info\"><a class=\"info\" href=\"index.html\">Yalp</a> — Reviews for Automotive</h3>\n",
       "</div>\n",
       "</div>\n",
       "<div class=\"row\">\n",
       "<div class=\"col-md-10\" id=\"content\">\n",
       "<div id=\"all\">\n",
       "<h4>List of all 132 businesses in the category <i>Automotive</i>:</h4>\n",
       "<p><h5>— 1. <a href=\"review_set_BS4u8wkRb70FDBZcYkJ9kQ.html\">7-Eleven</a></h5>4620 Russell Rd, Las Vegas, NV<br/>Convenience Stores, Gas Stations, Shopping, Food, Automotive, Coffee &amp; Tea</p>\n",
       "<p><h5>— 2. <a href=\"review_set_3O2HLFpUZKWxE55Mpzg81g.html\">AA Auto Care</a></h5>6765 W Flamingo Rd, Las Vegas, NV<br/>Oil Change Stations, Automotive, Smog Check Stations, Auto Repair</p>\n",
       "<p><h5>— 3. <a href=\"review_set_jeG-c5GwD0Uf0Ou5DLFTZg.html\">AA Auto Care</a></h5>7501 W Washington Ave, Las Vegas, NV<br/>Oil Change Stations, Automotive, Smog Check Stations, Auto Repair</p>\n",
       "<p><h5>— 4. <a href=\"review_set_UGQEXFibRZIebMRkuJqh3Q.html\">ADEQ Emissions Testing Station</a></h5>4949 E Madison St, Phoenix, AZ<br/>Automotive, Smog Check Stations</p>\n",
       "<p><h5>— 5. <a href=\"review_set_o1IS7-SvFXmijKDc6UY55Q.html\">ANB Detailing &amp; Car Wash</a></h5>4824 N 16th St, Phoenix, AZ<br/>Auto Detailing, Car Wash, Automotive</p>\n",
       "<p><h5>— 6. <a href=\"review_set_iojTeSaoPuxm4WeCzDUA6w.html\">AW Collision</a></h5>3325 W Desert Inn Rd, Ste 101, Las Vegas, NV<br/>Car Rental, Hotels &amp; Travel, Automotive, Auto Detailing, Body Shops, Windshield Installation &amp; Repair, Towing</p>\n",
       "<p><h5>— 7. <a href=\"review_set_vadTcg3fvqiXj0Bh9Lv3zg.html\">Above All Las Vegas ATV Tours &amp; Watercraft Rentals</a></h5>661 W Lake Mead Pkwy, Henderson, NV<br/>Hotels &amp; Travel, Automotive, Active Life, Motorcycle Repair, Travel Services, Bike Rentals, Boat Dealers, Tours, Motorcycle Dealers, Jet Skis, ATV Rentals/Tours, Boating, Sports Clubs, Horseback Riding</p>\n",
       "<p><h5>— 8. <a href=\"review_set_LPgOZAUsuLlAyGMqLiZiDw.html\">Ace Performance Automotive</a></h5>1730 W Sunrise Blvd, Ste A105, Gilbert, AZ<br/>Transmission Repair, Automotive, Oil Change Stations, Towing, Auto Customization, Auto Repair, Tires</p>\n",
       "<p><h5>— 9. <a href=\"review_set_C6z99t2F3xMtq85BQX9Y0w.html\">Active Green &amp; Ross Tire &amp; Auto Centre</a></h5>110 Gerrard Street E, Toronto, ON<br/>Automotive, Tires, Auto Repair</p>\n",
       "<p><h5>— 10. <a href=\"review_set_75CuAwTs4Mt05DDPr5IgAA.html\">Acura North Scottsdale</a></h5>7007 E Chauncey Ln, Phoenix, AZ<br/>Car Dealers, Auto Repair, Automotive</p>\n",
       "<p><h5>— 11. <a href=\"review_set_ZtBW0tQrqdIg4U303IFJGQ.html\">Advance Mufflers</a></h5>3405 N Rancho Dr, Ste 110, Las Vegas, NV<br/>Auto Repair, Automotive</p>\n",
       "<p><h5>— 12. <a href=\"review_set_yYMOgYW0eYtAyjGN08WzMA.html\">Agincourt Mazda</a></h5>5500 Finch Avenue E, Scarborough, ON<br/>Automotive, Auto Parts &amp; Supplies, Car Dealers, Auto Repair, Body Shops</p>\n",
       "<p><h5>— 13. <a href=\"review_set_06I2r8S3tHP_LwGnnkk6Uw.html\">All Storage - Anthem</a></h5>2620 W Horizon Ridge Pkwy, Henderson, NV<br/>Shopping, Automotive, Packing Supplies, Self Storage, Truck Rental, Local Services, Parking</p>\n",
       "<p><h5>— 14. <a href=\"review_set_zIlLvHaSd5TePD7bmWAbfg.html\">Amazon Window Tinting</a></h5>630 N Dysart Rd, Goodyear, AZ<br/>Automotive, Home Services, Mass Media, Car Window Tinting, Windows Installation, Vehicle Wraps, Home Window Tinting, Print Media, Windshield Installation &amp; Repair, Auto Glass Services</p>\n",
       "<p><h5>— 15. <a href=\"review_set_uUHiE2wgrz8SZmiWDcfPow.html\">Aurora Toyota</a></h5>669 Wellington Street E, Aurora, ON<br/>Automotive, Car Dealers</p>\n",
       "<p><h5>— 16. <a href=\"review_set_fEylCY3UEH8YJ0Xa7lu6lA.html\">Auto Bathouse</a></h5>5770 Butler St, Pittsburgh, PA<br/>Car Wash, Automotive, Oil Change Stations, Auto Detailing</p>\n",
       "<p><h5>— 17. <a href=\"review_set_6lfGG1LvT8OthWEh9Us-Hg.html\">Auto Service Mall</a></h5>2522 Brandt School Rd, Wexford, PA<br/>Auto Repair, Automotive</p>\n",
       "<p><h5>— 18. <a href=\"review_set_6nWyU5V3yINOq_DNWbpRDg.html\">AutoZone</a></h5>35 E Broadway Rd, Tempe, AZ<br/>Auto Parts &amp; Supplies, Automotive</p>\n",
       "<p><h5>— 19. <a href=\"review_set_fFClJbyFz-_Edv9lNy6fkQ.html\">Autospec-lv</a></h5>2695 S Decatur Blvd, Ste 250, Las Vegas, NV<br/>Auto Repair, Auto Customization, Auto Detailing, Automotive, Body Shops</p>\n",
       "<p><h5>— 20. <a href=\"review_set_31CsUV4qPnFleXR0aV8OPw.html\">Autozone</a></h5>7659 E Guadalupe Rd, Mesa, AZ<br/>Automotive, Auto Parts &amp; Supplies</p>\n",
       "<p><h5>— 21. <a href=\"review_set_PJbwMeZctljcMfxVo2Qacw.html\">Autozone</a></h5>1200 S Rainbow Blvd, Las Vegas, NV<br/>Auto Repair, Auto Parts &amp; Supplies, Automotive</p>\n",
       "<p><h5>— 22. <a href=\"review_set_SnpFUqKG6ZjurXYq5wZU_g.html\">B1 Locksmith</a></h5>717 S Hacienda Dr, #101A, Tempe, AZ<br/>Keys &amp; Locksmiths, Home Services, Roadside Assistance, Security Systems, Automotive</p>\n",
       "<p><h5>— 23. <a href=\"review_set_LcpMlrBYYSrUhZKfLS5JGg.html\">BJ's Auto Spa</a></h5>5050 W Bell Rd, Glendale, AZ<br/>Car Wash, Auto Repair, Automotive</p>\n",
       "<p><h5>— 24. <a href=\"review_set_ccw1jaEjeWaM20C2xvqWow.html\">Bennett's Auto Repair LLC</a></h5>2229 Eagle Dr, Middleton, WI<br/>Towing, Automotive, Tires, Gas Stations, Oil Change Stations, Auto Repair</p>\n",
       "<p><h5>— 25. <a href=\"review_set_j06vAL0fmcB0WQKnY3Yr_A.html\">Big O Tires</a></h5>170 N Pecos Rd, Henderson, NV<br/>Automotive, Oil Change Stations, Auto Repair, Tires</p>\n",
       "<p><h5>— 26. <a href=\"review_set_NB1wLg8MOIRzs5rCReoeng.html\">Bison Automotive and Transmission Repair</a></h5>2201 N 201 St Ave, Buckeye, AZ<br/>Auto Repair, Banks &amp; Credit Unions, Financial Services, Oil Change Stations, Automotive</p>\n",
       "<p><h5>— 27. <a href=\"review_set_IVCtbomAnQVpYUZxnRCkdQ.html\">Bobby Rahal Volvo</a></h5>15035 Perry Hwy, Wexford, PA<br/>Car Dealers, Automotive, Auto Repair</p>\n",
       "<p><h5>— 28. <a href=\"review_set_8HBgPqwmBZcBs3wSd5rwBA.html\">Brake Masters</a></h5>111 N Dobson Rd, Chandler, AZ<br/>Oil Change Stations, Auto Repair, Automotive</p>\n",
       "<p><h5>— 29. <a href=\"review_set_Tj2PiPfz_m0UjF6W_Iw0xg.html\">Brake Masters</a></h5>5578 W Bell Rd, Glendale, AZ<br/>Automotive, Auto Repair</p>\n",
       "<p><h5>— 30. <a href=\"review_set_blVwumFhigDEWsFLELjbIQ.html\">Brake Masters</a></h5>1910 Rock Springs Dr, Las Vegas, NV<br/>Automotive, Oil Change Stations, Auto Repair</p>\n",
       "<p><h5>— 31. <a href=\"review_set_aoJErIShJ_YLfN9YuUqBFg.html\">Budgetcar</a></h5>333 College Street, Toronto, ON<br/>Car Rental, Automotive, Truck Rental, Hotels &amp; Travel</p>\n",
       "<p><h5>— 32. <a href=\"review_set_1RKS8f8p2vwFDoEPz8q5fQ.html\">C &amp; R Tire</a></h5>42215 N Vision Way, Phoenix, AZ<br/>Automotive, Transmission Repair, Auto Repair, Oil Change Stations, Tires</p>\n",
       "<p><h5>— 33. <a href=\"review_set_CmWz9r3smcLzCq2jgjcNOQ.html\">Camping World - Las Vegas</a></h5>13175 Las Vegas Blvd S, Las Vegas, NV<br/>Campgrounds, RV Rental, Hotels &amp; Travel, Insurance, RV Repair, Financial Services, RV Dealers, Auto Parts &amp; Supplies, Auto Repair, Auto Insurance, Automotive</p>\n",
       "<p><h5>— 34. <a href=\"review_set_9CmO7-jtnIhYZ4dWfAOcBA.html\">Carland</a></h5>9650 N 19th Ave, Phoenix, AZ<br/>Car Dealers, Automotive</p>\n",
       "<p><h5>— 35. <a href=\"review_set_SJsHnUV1-V0Qm_8dMNpYMA.html\">Cherry Auto Glass Works</a></h5>1928 E Highland Ave, Phoenix, AZ<br/>Auto Glass Services, Automotive</p>\n",
       "<p><h5>— 36. <a href=\"review_set_JbIi9WCtidvqdTt8l2KMQg.html\">Chevron Pitstop</a></h5>10473 Dean Martin Dr, Las Vegas, NV<br/>Gas Stations, Car Wash, Automotive</p>\n",
       "<p><h5>— 37. <a href=\"review_set_bDh9QsR-6vYCSF8fza_xHA.html\">Circle K</a></h5>1330 W University Dr, Tempe, AZ<br/>Food, Grocery, Gas Stations, Convenience Stores, Automotive</p>\n",
       "<p><h5>— 38. <a href=\"review_set_ib6H2in9Uiihz6eo-RVO3w.html\">Circle K</a></h5>3010 S Gilbert Rd, Chandler, AZ<br/>Food, Convenience Stores, Automotive, Gas Stations</p>\n",
       "<p><h5>— 39. <a href=\"review_set_5aeFlQjZlwJhR7gA-9VMWA.html\">Cobblestone Auto Spa</a></h5>13811 W Bell Rd, Surprise, AZ<br/>Auto Detailing, Oil Change Stations, Automotive, Gas Stations, Car Wash</p>\n",
       "<p><h5>— 40. <a href=\"review_set_TlTypn_xOScR62m3XDaF1g.html\">Conrad's Tire Express &amp; Total Car Care</a></h5>1598 Golden Gate Plz, Mayfield Heights, OH<br/>Auto Repair, Automotive, Oil Change Stations, Tires</p>\n",
       "<p><h5>— 41. <a href=\"review_set_VlnRyO52qL_FYc4rZwbGtA.html\">Courtesy Imports</a></h5>260 N Gibson Rd, Henderson, NV<br/>Automotive, Hotels &amp; Travel, Auto Repair, Financial Services, Car Dealers, Car Rental</p>\n",
       "<p><h5>— 42. <a href=\"review_set_fO5l51bSNbNJEHAskVH_kw.html\">Desert Heat Auto</a></h5>1045 W Broadway, Ste 2A, Mesa, AZ<br/>Oil Change Stations, Automotive, Auto Repair, Transmission Repair</p>\n",
       "<p><h5>— 43. <a href=\"review_set_ok0KK4QQZbV6LGP_hllbGQ.html\">Done And Done DMV Service</a></h5>2510 E Sunset Rd, Las Vegas, NV<br/>Local Services, Auto Insurance, Insurance, Financial Services, Professional Services, Automotive, Departments of Motor Vehicles, Notaries, Registration Services, Public Services &amp; Government</p>\n",
       "<p><h5>— 44. <a href=\"review_set_9W8Sqz0T5tTmX2Ejr_37Iw.html\">DriveTime Used Cars</a></h5>3030 E Sahara Ave, Las Vegas, NV<br/>Automotive, Car Dealers, Used Car Dealers</p>\n",
       "<p><h5>— 45. <a href=\"review_set_rYyJ4lljpej9HUFUwX6zHg.html\">Earl Scheib Paint &amp; Body</a></h5>11025 N Cave Creek Rd, Phoenix, AZ<br/>Automotive, Body Shops</p>\n",
       "<p><h5>— 46. <a href=\"review_set_HHcuXarbh_kJQ95Yjsjp0Q.html\">Earnhardt Ford</a></h5>7300 W Orchid Ln, Chandler, AZ<br/>Automotive, Body Shops, Auto Repair, Car Dealers</p>\n",
       "<p><h5>— 47. <a href=\"review_set_MqiSEnjf2cayulABkHZWyQ.html\">Eco's Auto Detail</a></h5>304 N Wallace Dr, Las Vegas, NV<br/>Car Wash, Automotive, Auto Detailing, Carpet Cleaning, Local Services</p>\n",
       "<p><h5>— 48. <a href=\"review_set_A9QOcL9jnj8p4wGwM2ZDZQ.html\">Enterprise Rent-A-Car</a></h5>132 E Baseline Rd, Mesa, AZ<br/>Car Rental, Automotive, Hotels &amp; Travel</p>\n",
       "<p><h5>— 49. <a href=\"review_set_X5CS4_Mxz8yw1ERf5U8JfA.html\">Exclusive Detail</a></h5>4913 Chastain Ave, Ste 32, Charlotte, NC<br/>Home Services, Automotive, Home Window Tinting, Vehicle Wraps, Car Wash, Auto Customization, Auto Glass Services, Auto Detailing, Auto Parts &amp; Supplies</p>\n",
       "<p><h5>— 50. <a href=\"review_set_JVnycwsi4EoB0-pRN4lWXQ.html\">Fast-Trac Designs</a></h5>2518 W Morningside Dr, Phoenix, AZ<br/>Auto Parts &amp; Supplies, Print Media, Local Services, Screen Printing, Professional Services, Automotive, Graphic Design, Screen Printing/T-Shirt Printing, Mass Media, Advertising, Printing Services, Auto Customization, Vehicle Wraps, Signmaking</p>\n",
       "<p><h5>— 51. <a href=\"review_set_gwdciABNnpQpwaficPhMGA.html\">Fiix</a></h5>Toronto, ON<br/>Auto Parts &amp; Supplies, Automotive, Tires, Oil Change Stations, Auto Detailing, Auto Repair</p>\n",
       "<p><h5>— 52. <a href=\"review_set_AEzBTGx4oJwJl6vsMjOjTg.html\">Fills</a></h5>7110 S Durango Dr, Las Vegas, NV<br/>Gas Stations, Car Wash, Automotive, Food, Convenience Stores</p>\n",
       "<p><h5>— 53. <a href=\"review_set_nRjrPaKsc2CKvZA-I7Wc2w.html\">Firestone Complete Auto Care</a></h5>8188 W Deer Valley Rd, Peoria, AZ<br/>Auto Repair, Automotive, Tires, Oil Change Stations</p>\n",
       "<p><h5>— 54. <a href=\"review_set_dUCvi9m9a1BDCm7Ir0LiwQ.html\">Firestone Complete Auto Care</a></h5>731 E Union Hills Dr, Phoenix, AZ<br/>Tires, Auto Repair, Automotive, Auto Parts &amp; Supplies, Oil Change Stations</p>\n",
       "<p><h5>— 55. <a href=\"review_set_hcWabsa9YZDSCqrgwjPRKg.html\">Firestone Complete Auto Care</a></h5>4915 E Carefree Hwy, Cave Creek, AZ<br/>Automotive, Tires, Oil Change Stations, Auto Repair</p>\n",
       "<p><h5>— 56. <a href=\"review_set_6-MRTlcOPHVSPofI2Au-VQ.html\">Flat Price Moving and Auto Shipping</a></h5>Cleveland, OH<br/>Self Storage, Local Services, Automotive, Home Services, Movers, Vehicle Shipping</p>\n",
       "<p><h5>— 57. <a href=\"review_set_FiXuDGt0rOqHCJncWEnQSA.html\">Frank's Auto Body</a></h5>1432 N Boulder Hwy, Henderson, NV<br/>Automotive, Body Shops, Towing, Auto Repair</p>\n",
       "<p><h5>— 58. <a href=\"review_set_RFPls34-sEgs-tFqKv837g.html\">Get N Go</a></h5>3061 St Rose Pkwy, Henderson, NV<br/>Automotive, Gas Stations, Car Wash, Convenience Stores, Food</p>\n",
       "<p><h5>— 59. <a href=\"review_set_K7j0BqmmN6ZEZ4BHIgUcng.html\">GetGo from Giant Eagle</a></h5>4924 Baum Blvd, Pittsburgh, PA<br/>Restaurants, Gas Stations, Automotive, Food, Convenience Stores, Fast Food</p>\n",
       "<p><h5>— 60. <a href=\"review_set_E19pQJkuBBnSpUn6kZ-dKQ.html\">Goodyear Auto Service Center</a></h5>12875 West Bell Rd, Surprise, AZ<br/>Tires, Automotive, Auto Repair, Oil Change Stations</p>\n",
       "<p><h5>— 61. <a href=\"review_set_NJtFVBf66FUT0eNf_TdqoA.html\">Goodyear Auto Service Centers</a></h5>100 E Stonewall St, Charlotte, NC<br/>Tires, Automotive</p>\n",
       "<p><h5>— 62. <a href=\"review_set_2V2CDWvF_VrdUKTHHAmdfA.html\">Greulich's Automotive Service</a></h5>16641 W Bell Rd, Surprise, AZ<br/>Tires, Auto Repair, Automotive</p>\n",
       "<p><h5>— 63. <a href=\"review_set_2NsEac9xCBI05bo5l4yI7Q.html\">Hertz Rent A Car</a></h5>7135 Gilespie St, Las Vegas, NV<br/>Automotive, Car Rental, Hotels &amp; Travel</p>\n",
       "<p><h5>— 64. <a href=\"review_set__j22dq3fnvkRnEHA8v-KVw.html\">Hybrid Auto Center</a></h5>5360 Cameron St, Ste 5, Las Vegas, NV<br/>Car Dealers, Auto Repair, Auto Parts &amp; Supplies, Automotive</p>\n",
       "<p><h5>— 65. <a href=\"review_set_Uw3zWaUX2-w5ihZJJ4UTIw.html\">Immaculate Mobile Wash &amp; Detail</a></h5>Gilbert, AZ<br/>Automotive, Car Wash, Auto Detailing</p>\n",
       "<p><h5>— 66. <a href=\"review_set_J8MTMsETUK_0hfNEiiaOnA.html\">Instant Towing</a></h5>564 E Silverado Ranch Blvd, Ste 213, Las Vegas, NV<br/>Automotive, Roadside Assistance, Towing</p>\n",
       "<p><h5>— 67. <a href=\"review_set_o4WxEL-PaVsYATx1HXyunw.html\">Jiffy Lube</a></h5>12600 Symons Valley Road NW, Calgary, AB<br/>Oil Change Stations, Automotive</p>\n",
       "<p><h5>— 68. <a href=\"review_set_liYoXFyQEfxabxC0XCejpQ.html\">Jiffy Lube</a></h5>1901 S Neil St, Champaign, IL<br/>Automotive, Oil Change Stations</p>\n",
       "<p><h5>— 69. <a href=\"review_set_Of8vddNT7RZhsklFtGEmlw.html\">Jiffy Lube</a></h5>10440 S Eastern Ave, Henderson, NV<br/>Oil Change Stations, Automotive</p>\n",
       "<p><h5>— 70. <a href=\"review_set_jVagN3c3ogpK7LvVOF9gdA.html\">Jiffy Lube</a></h5>3140 Maple Valley Dr, Madison, WI<br/>Gas Stations, Wheel &amp; Rim Repair, Oil Change Stations, Auto Repair, Automotive</p>\n",
       "<p><h5>— 71. <a href=\"review_set_JVv5Ptd6st1zNQcT255Kew.html\">Kamper City</a></h5>5549 Akron Cleveland Rd, Peninsula, OH<br/>RV Dealers, Automotive</p>\n",
       "<p><h5>— 72. <a href=\"review_set_Xb54JtWRz9GwdehkXah-Mg.html\">Knudsen's Auto Specialist</a></h5>12804 N 19th Ave, Phoenix, AZ<br/>Auto Repair, Transmission Repair, Tires, Automotive, Oil Change Stations</p>\n",
       "<p><h5>— 73. <a href=\"review_set_61ZG2kyj_R7iux7yPrJIxg.html\">LMS Window Tint and Car Accessories</a></h5>4424 Allen Ln, Ste B, North Las Vegas, NV<br/>Auto Parts &amp; Supplies, Auto Glass Services, Automotive, Windshield Installation &amp; Repair, Car Stereo Installation, Auto Repair</p>\n",
       "<p><h5>— 74. <a href=\"review_set_ChwKt2_mPRc1AuLUv_VCbw.html\">LV Auto Collision Repair</a></h5>1910 Western Ave, Las Vegas, NV<br/>Automotive, Auto Repair, Body Shops</p>\n",
       "<p><h5>— 75. <a href=\"review_set_eheybDXvDpK7yDBf0P1NKA.html\">Lane Splitters Garage</a></h5>19 S 10th Ave, Phoenix, AZ<br/>Automotive, Motorcycle Gear, Shopping, Auto Parts &amp; Supplies, Motorcycle Repair</p>\n",
       "<p><h5>— 76. <a href=\"review_set_HiQUSQcybN-cehXefdddtg.html\">Lave-Auto St-Urbain Laurier</a></h5>85 Av Laurier O, Montreal, QC<br/>Automotive, Auto Detailing, Car Wash</p>\n",
       "<p><h5>— 77. <a href=\"review_set_a3n9pyd5L1LBfkUATKT97Q.html\">Leipold Tire Co of Cuyahoga Falls</a></h5>1808 State Rd, Cuyahoga Falls, OH<br/>Automotive, Tires</p>\n",
       "<p><h5>— 78. <a href=\"review_set_obnl740NovFhtyPB7Gn9AA.html\">Lifetime Auto Works</a></h5>2320 Noblestown Rd, Pittsburgh, PA<br/>Auto Repair, Automotive</p>\n",
       "<p><h5>— 79. <a href=\"review_set_NHKW8hlTX3ra3C8R5LnhAA.html\">Lifetime Automotive</a></h5>Charlotte, NC<br/>Automotive, Auto Repair</p>\n",
       "<p><h5>— 80. <a href=\"review_set_8CgqRGtuqM0nxt8-dEnnmQ.html\">Llantera Tropicana</a></h5>1250 E Tropicana Ave, Las Vegas, NV<br/>Automotive, Car Stereo Installation, Auto Repair, Tires, Auto Glass Services</p>\n",
       "<p><h5>— 81. <a href=\"review_set_p265EDZ1uSjqe-LDOXTkxA.html\">Majestic Muffler &amp; Custom Exhaust</a></h5>6462 Kingston Road, Scarborough, ON<br/>Auto Repair, Automotive</p>\n",
       "<p><h5>— 82. <a href=\"review_set_zBPIK75F2XTAyM3tGM6Qug.html\">Matthews Imports</a></h5>645 Stallings Rd, Matthews, NC<br/>Auto Repair, Automotive</p>\n",
       "<p><h5>— 83. <a href=\"review_set_1eZW5Yqdve7wuWaZt47NUw.html\">Meineke Car Care Center</a></h5>10515-A Centrum Pkwy, Pineville, NC<br/>Automotive, Tires, Oil Change Stations, Auto Repair</p>\n",
       "<p><h5>— 84. <a href=\"review_set_0zm-EEKrF9BKcfmd8lDmcw.html\">Melo Auto</a></h5>3340 Dundas Street W, Toronto, ON<br/>Automotive, Oil Change Stations, Auto Repair</p>\n",
       "<p><h5>— 85. <a href=\"review_set__5eMIsRbyoY_aOw0jwIHHA.html\">Mercedes-Benz of Henderson</a></h5>925 Auto Show Dr, Henderson, NV<br/>Automotive, Auto Parts &amp; Supplies, Auto Repair, Car Dealers</p>\n",
       "<p><h5>— 86. <a href=\"review_set_B5T9QeLjvvD3D_GJs1z66g.html\">MetricWerks</a></h5>Las Vegas, NV<br/>Automotive, Motorcycle Repair</p>\n",
       "<p><h5>— 87. <a href=\"review_set_d9_VFWoells38JCx1QMGlw.html\">Midas</a></h5>2102 Moreland Boulevard, Champaign, IL<br/>Automotive, Auto Repair, Oil Change Stations, Tires</p>\n",
       "<p><h5>— 88. <a href=\"review_set_zawyzKsuL1KNLPnmdFV58Q.html\">Midas</a></h5>9960 Pineville/Mathews Road, Pineville, NC<br/>Tires, Oil Change Stations, Automotive, Auto Repair</p>\n",
       "<p><h5>— 89. <a href=\"review_set_QGA3Ryf6FNnFCBKeZPi-QA.html\">Midland Car Wash &amp; Detailing</a></h5>1566 Midland Avenue, Scarborough, ON<br/>Automotive, Car Wash, Auto Detailing</p>\n",
       "<p><h5>— 90. <a href=\"review_set_JzUnNcpH6BQvEqGc81btiA.html\">Navy Federal Credit Union</a></h5>4212 E Juanita Ave, Mesa, AZ<br/>Financial Advising, Real Estate, Financial Services, Auto Loan Providers, Mortgage Brokers, Banks &amp; Credit Unions, Automotive, Home Services, Mortgage Lenders</p>\n",
       "<p><h5>— 91. <a href=\"review_set_GCTVuBcDZZolh8ND4KSwWA.html\">Nick Mayer Lincoln</a></h5>24400 Center Ridge Rd, Westlake, OH<br/>Body Shops, Automotive, Auto Parts &amp; Supplies, Auto Repair, Car Dealers</p>\n",
       "<p><h5>— 92. <a href=\"review_set_TlD7I9gNNNz9QsCyVDsyNQ.html\">North Star Ford Sales Calgary</a></h5>9 Crowfoot Circle NW, Calgary, AB<br/>Auto Repair, Automotive, Car Dealers</p>\n",
       "<p><h5>— 93. <a href=\"review_set_nmI_B5OyJkbj3J-5g9rfsA.html\">O'Reilly Auto Parts</a></h5>7995 S Rainbow Blvd, Las Vegas, NV<br/>Automotive, Auto Parts &amp; Supplies</p>\n",
       "<p><h5>— 94. <a href=\"review_set__2jq1pu7XuKFylIsJZkc1A.html\">O'Reilly Auto Parts</a></h5>1611 S Decatur Blvd, Las Vegas, NV<br/>Automotive, Auto Parts &amp; Supplies</p>\n",
       "<p><h5>— 95. <a href=\"review_set_QHYJCG4ACxA9NOiPs81qug.html\">O'Reilly Auto Parts</a></h5>855 W University Dr, Mesa, AZ<br/>Auto Parts &amp; Supplies, Automotive</p>\n",
       "<p><h5>— 96. <a href=\"review_set_bpEc0zyBoRO9OQCeFr7iIA.html\">O'Reilly's Auto Parts</a></h5>6255 Centennial Center Blvd, Las Vegas, NV<br/>Automotive, Auto Parts &amp; Supplies</p>\n",
       "<p><h5>— 97. <a href=\"review_set_MF_GMYOomIa_-95YwExLDw.html\">Philcron Automotive Service</a></h5>144 Manley St, Charlotte, NC<br/>Auto Repair, Oil Change Stations, Body Shops, Automotive</p>\n",
       "<p><h5>— 98. <a href=\"review_set_ZctI2OJeq2L959n0IxiVnw.html\">Precision Tune Auto Care</a></h5>5101 Albemarle Rd, Charlotte, NC<br/>Oil Change Stations, Tires, Automotive, Auto Repair</p>\n",
       "<p><h5>— 99. <a href=\"review_set_l3Z7GQu3wVjafWEo-Nj48g.html\">Priority Car Care</a></h5>63 E McKellips Rd, Ste 131, Mesa, AZ<br/>Auto Repair, Automotive, Tires</p>\n",
       "<p><h5>— 100. <a href=\"review_set_IO_88a--KH7Ylf8sGE9aTA.html\">Pro Customs</a></h5>3200 Meade Ave, Las Vegas, NV<br/>Automotive, Auto Repair</p>\n",
       "<p><h5>— 101. <a href=\"review_set_y7NCJgSXiuVllPc6IK5Lsw.html\">Quick Towing</a></h5>415 W Bonanza Rd, Las Vegas, NV<br/>Automotive, Towing, Roadside Assistance</p>\n",
       "<p><h5>— 102. <a href=\"review_set_97v2MTa11QILaeZRrqpInw.html\">Red Rock Automotive</a></h5>507 N Scottsdale Rd, Scottsdale, AZ<br/>Automotive, Car Dealers</p>\n",
       "<p><h5>— 103. <a href=\"review_set_qUraZNprg0Vk4PmjaPQREQ.html\">Ron Lewis Chrysler Dodge Jeep Ram Pleasant Hills</a></h5>600 Clairton Blvd, Pittsburgh, PA<br/>Car Dealers, Body Shops, Auto Repair, Automotive</p>\n",
       "<p><h5>— 104. <a href=\"review_set_2187MlQ_S3pqcTSAdAgyKw.html\">Rubens Mobile Solutions</a></h5>Las Vegas, NV<br/>Auto Repair, Car Stereo Installation, Towing, Oil Change Stations, Automotive</p>\n",
       "<p><h5>— 105. <a href=\"review_set_--KQsXc-clkO7oHRqGzSzg.html\">Sam's Club</a></h5>15255 N Northsight Blvd, Scottsdale, AZ<br/>Department Stores, Automotive, Wholesale Stores, Fashion, Shopping, Tires</p>\n",
       "<p><h5>— 106. <a href=\"review_set_YMHzr9_Fx44Pn9cct3wRpg.html\">Second Time Around Tire Sales</a></h5>8 Progress Avenue, Scarborough, ON<br/>Tires, Automotive</p>\n",
       "<p><h5>— 107. <a href=\"review_set_2QO3Dz-DJQoAlH9N14MI1A.html\">Service King Collision Repair Falconis</a></h5>5935 S. Polaris Ave, Las Vegas, NV<br/>Auto Repair, Body Shops, Automotive</p>\n",
       "<p><h5>— 108. <a href=\"review_set_mCTMLN8vAD8PlVPM6XDXpA.html\">Sierra Tires</a></h5>4380 N Lamb, Las Vegas, NV<br/>Automotive, Tires</p>\n",
       "<p><h5>— 109. <a href=\"review_set_9QwivVrLDeODfZJTkLBtsA.html\">Signature Graphics</a></h5>14425 N 79th St, Ste B, Scottsdale, AZ<br/>Professional Services, Automotive, Local Services, Printing Services, Vehicle Wraps, Auto Customization, Graphic Design</p>\n",
       "<p><h5>— 110. <a href=\"review_set_UxZGTQVs5J6Yd_JZm4RHNQ.html\">Smog Busters</a></h5>4252 S Rainbow Blvd, Las Vegas, NV<br/>Automotive, Smog Check Stations</p>\n",
       "<p><h5>— 111. <a href=\"review_set_ZsDH0sPXgAduwrp_ORtfxQ.html\">Sound F-X Autosound</a></h5>1172 Dupont Street, Toronto, ON<br/>Car Stereo Installation, Automotive</p>\n",
       "<p><h5>— 112. <a href=\"review_set_Tih2YKMvA5uHSXUCJSSvxA.html\">Stayshons Chevron</a></h5>8823 E Chaparral Rd, Scottsdale, AZ<br/>Automotive, Gas Stations</p>\n",
       "<p><h5>— 113. <a href=\"review_set_YOyI2UBuFREJn78uGdQHvA.html\">Subaru Concord</a></h5>853 Concord Pkwy S, Concord, NC<br/>Car Dealers, Automotive, Auto Parts &amp; Supplies, Auto Repair</p>\n",
       "<p><h5>— 114. <a href=\"review_set_f_pQrdSNn9SuY9LrFbo0Kg.html\">Sunnyside Chevrolet</a></h5>1100 E Broad St, Elyria, OH<br/>Auto Repair, Automotive, Car Dealers, Tires</p>\n",
       "<p><h5>— 115. <a href=\"review_set_YSdxFINzbpbwX-RtPd1FxQ.html\">T &amp; M Automotive</a></h5>3921 W Oquendo Rd, Las Vegas, NV<br/>Oil Change Stations, Smog Check Stations, Automotive, Auto Repair</p>\n",
       "<p><h5>— 116. <a href=\"review_set_9UzrPAKKnwao1GbcaBoxtQ.html\">Tag Towing and Collision</a></h5>5945 Buttermilk Hollow Rd, Pittsburgh, PA<br/>Towing, Auto Repair, Body Shops, Automotive</p>\n",
       "<p><h5>— 117. <a href=\"review_set_OpR1dL0_rt27L0JZ96Jz5A.html\">Terrible Herbst</a></h5>9991 W Charleston Blvd, Las Vegas, NV<br/>Food, Gas Stations, Car Wash, Automotive, Convenience Stores</p>\n",
       "<p><h5>— 118. <a href=\"review_set_E-dL1nTtJmItxDeeb4ZASA.html\">Terrible Herbst-266</a></h5>298 S Decatur Blvd, Las Vegas, NV<br/>Gas Stations, Automotive</p>\n",
       "<p><h5>— 119. <a href=\"review_set_YkjpubtHR6K1ovAeZeh2ow.html\">The Tire Depot</a></h5>3100 The Plz, Charlotte, NC<br/>Tires, Automotive</p>\n",
       "<p><h5>— 120. <a href=\"review_set_8Oy-N1HUUUJBv9Ta_8O_fA.html\">Thrifty Car Sales</a></h5>881 N Arizona Ave, Gilbert, AZ<br/>Auto Repair, Automotive, Car Dealers, Tires</p>\n",
       "<p><h5>— 121. <a href=\"review_set_A9NCnsENkLOXPGg8GGTcjQ.html\">Tire Kingdom</a></h5>4438 South Blvd, Charlotte, NC<br/>Tires, Automotive</p>\n",
       "<p><h5>— 122. <a href=\"review_set_vbpFWZE2CtP_rMHr_FtUcA.html\">Tire Works Total Car Care</a></h5>4690 W. Cactus Avenue, Las Vegas, NV<br/>Auto Repair, Automotive, Tires, Transmission Repair</p>\n",
       "<p><h5>— 123. <a href=\"review_set_wuIptKfkWh1omiOJUy2DSA.html\">Tractor Supply Company</a></h5>34350 N Cave Creek Rd, Bldg A, Cave Creek, AZ<br/>Automotive, Auto Parts &amp; Supplies</p>\n",
       "<p><h5>— 124. <a href=\"review_set_rxflse3kelxyCQQOJEld7A.html\">U-Haul Moving &amp; Storage of Fountain Hills</a></h5>9264 Technology Dr, Fountain Hills, AZ<br/>Truck Rental, Hotels &amp; Travel, Home Services, Local Services, Car Rental, Movers, Packing Supplies, Self Storage, Trailer Rental, Automotive, Propane, Shopping</p>\n",
       "<p><h5>— 125. <a href=\"review_set_D6wfcB7JFLetcJ053k13ug.html\">U-Haul Moving &amp; Trailer Hitch Center of Las Vegas</a></h5>1900 S Decatur Blvd, Las Vegas, NV<br/>Self Storage, Home Services, Towing, Truck Rental, Movers, Automotive, Local Services, Propane</p>\n",
       "<p><h5>— 126. <a href=\"review_set_PrQxBBWVvZRNY1yPjYhlEg.html\">Used Car Outlet</a></h5>2580 Duneville St, Las Vegas, NV<br/>Used Car Dealers, Automotive, Car Dealers</p>\n",
       "<p><h5>— 127. <a href=\"review_set_GTzQ2-uJAelYk0tLFHaJHw.html\">Valvoline Instant Oil Change</a></h5>5522 University Ave, Madison, WI<br/>Automotive, Oil Change Stations</p>\n",
       "<p><h5>— 128. <a href=\"review_set_-8O4kt8AIRhM3OUxt-pWLg.html\">Warrior Wraps</a></h5>5860 South Valley View Blvd, Las Vegas, NV<br/>Signmaking, Local Services, Mass Media, Automotive, Print Media, Professional Services, Auto Customization, Printing Services, Vehicle Wraps, Graphic Design</p>\n",
       "<p><h5>— 129. <a href=\"review_set_FNEfDBCvCcsKvw6JeQawAw.html\">West Valley Motor Vehicle Title Express</a></h5>12801 W Bell Rd, Ste 113, Surprise, AZ<br/>Public Services &amp; Government, Departments of Motor Vehicles, Automotive</p>\n",
       "<p><h5>— 130. <a href=\"review_set_OX-hZ2H7XD242njkjDnX3A.html\">Wheels In Motion Auto Sales</a></h5>7425 S Harl Ave, Ste 5, Tempe, AZ<br/>Car Dealers, Automotive, Used Car Dealers</p>\n",
       "<p><h5>— 131. <a href=\"review_set_s1Yzi8r52EqJMakuTJsI-Q.html\">Window Tinting</a></h5>Phoenix, AZ<br/>Automotive, Home Window Tinting, Home Services, Auto Glass Services</p>\n",
       "<p><h5>— 132. <a href=\"review_set_UyqZIgKLEfXON8xVD4NxHQ.html\">Your Way Auto Sale</a></h5>9144 N Cave Creek Rd, Phoenix, AZ<br/>Car Dealers, Automotive</p>\n",
       "</div>\n",
       "</div>\n",
       "</div>\n",
       "<div class=\"footer\">\n",
       "        Content on this site is posted for teaching purposes only. \n",
       "        </div>\n",
       "</div>\n",
       "<!-- Bootstrap core JavaScript\n",
       "    ================================================== -->\n",
       "<!-- Placed at the end of the document so the pages load faster -->\n",
       "<script src=\"https://ajax.googleapis.com/ajax/libs/jquery/1.11.0/jquery.min.js\"></script>\n",
       "<script src=\"assets/js/bootstrap.min.js\"></script>\n",
       "<script src=\"assets/js/retina-1.1.0.js\"></script>\n",
       "<script src=\"assets/js/jquery.hoverdir.js\"></script>\n",
       "<script src=\"assets/js/jquery.hoverex.min.js\"></script>\n",
       "<script src=\"assets/js/jquery.isotope.min.js\"></script>\n",
       "<script src=\"assets/js/custom.js\"></script>\n",
       "</body>\n",
       "</html>"
      ]
     },
     "execution_count": 8,
     "metadata": {},
     "output_type": "execute_result"
    }
   ],
   "source": [
    "automotive_page_data = category_page_data[0]\n",
    "cafes_page_data = category_page_data[1]\n",
    "fashion_page_data = category_page_data[2]\n",
    "automotive_page_data #sample data"
   ]
  },
  {
   "cell_type": "markdown",
   "metadata": {},
   "source": [
    "## Creating a function to get all the reviews"
   ]
  },
  {
   "cell_type": "code",
   "execution_count": 9,
   "metadata": {},
   "outputs": [],
   "source": [
    "def get_review_links(page_data):\n",
    "    col_names = ('reviews','rating') #Creating columnnames for df\n",
    "    df = pd.DataFrame(columns=col_names) #creating new df with two columns \n",
    "    review_data =[]\n",
    "    image_tags = []\n",
    "    paragraph_text =[]\n",
    "    res = []\n",
    "    review = page_links(page_data) #using page_links function to get all the links for each business \n",
    "    review.pop(0) #popping the first link as its index.html\n",
    "    review = [main_page_url + s for s in review] #appending the main url to get the complete link for each review \n",
    "    \n",
    "    for link in review:\n",
    "        review_data.append(scrape_data(link)) #using scrape_data to get all the data for each business based using thier corresponding link\n",
    "        \n",
    "    for data in review_data: #Iterating over reviews for each business \n",
    "        p_tags = data.find_all('p', attrs={'class':'review-text'}) #using find_all to get all the p tags which have the attribute review-text in class as review-text contains the actual reviews\n",
    "        \n",
    "        for tag in p_tags:\n",
    "            paragraph_text.append(tag.get_text()) #for each review, using tag.get_text which only returns the text from a tag which is the actual reviews we need\n",
    "            \n",
    "        collection = data.findAll(\"img\") #Finding all the image tags from the page\n",
    "        \n",
    "        for img in collection: #iterating over every image tag\n",
    "            if 'alt' in img.attrs: # checking condition for alt attribute in image tag\n",
    "                if (img.attrs['alt'] == '4-star' or img.attrs['alt'] == '5-star'):\n",
    "                    image_tags.append('positive') #assigning positive review for 4 and 5 stars \n",
    "                else:\n",
    "                    image_tags.append('negative') #assigning negative review for 1,2 and 3 stars\n",
    "    df['reviews'] = paragraph_text #Storing all the review text in the df column\n",
    "    df['rating'] = image_tags #Storing all the generated review labels in the df column\n",
    "    return df\n",
    "    "
   ]
  },
  {
   "cell_type": "markdown",
   "metadata": {},
   "source": [
    "### Calling the get_review_links for each category of reviews"
   ]
  },
  {
   "cell_type": "code",
   "execution_count": 10,
   "metadata": {},
   "outputs": [],
   "source": [
    "automotive_review = get_review_links(automotive_page_data)\n",
    "cafes_review = get_review_links(cafes_page_data)\n",
    "fashion_review = get_review_links(fashion_page_data)"
   ]
  },
  {
   "cell_type": "markdown",
   "metadata": {},
   "source": [
    "## Function to pre-process the reviews"
   ]
  },
  {
   "cell_type": "code",
   "execution_count": 11,
   "metadata": {},
   "outputs": [],
   "source": [
    "def text_preprocess(value):\n",
    "    value['reviews'] = value['reviews'].str.lower() #lowercase all words\n",
    "    value['reviews']=value['reviews'].str.split().map(lambda sl: \" \".join(s for s in sl if len(s) > 2)) #remove word less than 2 char\n",
    "    value['reviews'] = value['reviews'].str.replace(r'\\d+','') #removing numbers\n",
    "    value['reviews'] = value['reviews'].str.replace(r'[ ](?=[ ])|[^-_,A-Za-z0-9 ]+', \"\") #removing special characters \n",
    "    value['tokenized_sentences'] = value.apply(lambda row: nltk.word_tokenize(row['reviews']), axis=1) #tokenizing \n",
    "    value['tokenized_sentences']= value['tokenized_sentences'].apply(lambda x: [item for item in x if item not in stop_list]) #removing stopwords\n",
    "    value['tokenized_sentences'] = value['tokenized_sentences'].apply(lambda x : [stemmer.stem(y) for y in x]) #stemming \n",
    "    value['tokenized_sentences'] = value['tokenized_sentences'].apply(lambda x : [lemmatizer.lemmatize(y) for y in x]) #lemmatizing \n",
    "    value['clean_string'] = value['tokenized_sentences'].str.join(' ') #converting back to normal string from tokenized string \n",
    "    return value"
   ]
  },
  {
   "cell_type": "markdown",
   "metadata": {},
   "source": [
    "### Calling text_preprocess function to clean review text for each category "
   ]
  },
  {
   "cell_type": "code",
   "execution_count": 12,
   "metadata": {},
   "outputs": [],
   "source": [
    "automotive_review = text_preprocess(automotive_review)\n",
    "cafes_review = text_preprocess(cafes_review)\n",
    "fashion_review = text_preprocess(fashion_review)"
   ]
  },
  {
   "cell_type": "markdown",
   "metadata": {},
   "source": [
    "# TASK 2 AND TASK 3"
   ]
  },
  {
   "cell_type": "markdown",
   "metadata": {},
   "source": [
    "### Storing labels for each review in a new array"
   ]
  },
  {
   "cell_type": "code",
   "execution_count": 13,
   "metadata": {},
   "outputs": [
    {
     "data": {
      "text/plain": [
       "array(['positive', 'negative', 'positive', ..., 'negative', 'negative',\n",
       "       'negative'], dtype=object)"
      ]
     },
     "execution_count": 13,
     "metadata": {},
     "output_type": "execute_result"
    }
   ],
   "source": [
    "y_auto = np.array(automotive_review['rating'])\n",
    "y_cafes = np.array(cafes_review['rating'])\n",
    "y_fashion = np.array(fashion_review['rating'])\n",
    "y_fashion #sample data"
   ]
  },
  {
   "cell_type": "markdown",
   "metadata": {},
   "source": [
    "## TASK 2a: Converting data to numeric representation (TF-IDF)"
   ]
  },
  {
   "cell_type": "code",
   "execution_count": 14,
   "metadata": {},
   "outputs": [],
   "source": [
    "v = TfidfVectorizer(max_features=2500) #Initializnig the TF-IDF Vectorizer "
   ]
  },
  {
   "cell_type": "markdown",
   "metadata": {},
   "source": [
    "### Finding the TD-IDF for each word and storing it in a new variable as an array"
   ]
  },
  {
   "cell_type": "code",
   "execution_count": 15,
   "metadata": {},
   "outputs": [
    {
     "data": {
      "text/plain": [
       "array([[0.        , 0.        , 0.        , ..., 0.        , 0.        ,\n",
       "        0.        ],\n",
       "       [0.        , 0.        , 0.        , ..., 0.        , 0.        ,\n",
       "        0.        ],\n",
       "       [0.        , 0.        , 0.30945468, ..., 0.        , 0.        ,\n",
       "        0.        ],\n",
       "       ...,\n",
       "       [0.        , 0.        , 0.        , ..., 0.        , 0.        ,\n",
       "        0.        ],\n",
       "       [0.        , 0.        , 0.        , ..., 0.        , 0.        ,\n",
       "        0.        ],\n",
       "       [0.        , 0.        , 0.        , ..., 0.        , 0.        ,\n",
       "        0.        ]])"
      ]
     },
     "execution_count": 15,
     "metadata": {},
     "output_type": "execute_result"
    }
   ],
   "source": [
    "X_auto = v.fit_transform(automotive_review['clean_string']).toarray()\n",
    "X_cafes = v.fit_transform(cafes_review['clean_string']).toarray()\n",
    "X_fashion = v.fit_transform(fashion_review['clean_string']).toarray()\n",
    "X_fashion #sample data"
   ]
  },
  {
   "cell_type": "markdown",
   "metadata": {},
   "source": [
    "### Checking to see if data is imbalanced "
   ]
  },
  {
   "cell_type": "code",
   "execution_count": 16,
   "metadata": {},
   "outputs": [
    {
     "data": {
      "text/plain": [
       "positive    1212\n",
       "negative     788\n",
       "Name: rating, dtype: int64"
      ]
     },
     "execution_count": 16,
     "metadata": {},
     "output_type": "execute_result"
    }
   ],
   "source": [
    "automotive_review['rating'].value_counts()"
   ]
  },
  {
   "cell_type": "code",
   "execution_count": 17,
   "metadata": {},
   "outputs": [
    {
     "data": {
      "text/plain": [
       "positive    1462\n",
       "negative     538\n",
       "Name: rating, dtype: int64"
      ]
     },
     "execution_count": 17,
     "metadata": {},
     "output_type": "execute_result"
    }
   ],
   "source": [
    "cafes_review['rating'].value_counts()"
   ]
  },
  {
   "cell_type": "code",
   "execution_count": 18,
   "metadata": {},
   "outputs": [
    {
     "data": {
      "text/plain": [
       "positive    1205\n",
       "negative     795\n",
       "Name: rating, dtype: int64"
      ]
     },
     "execution_count": 18,
     "metadata": {},
     "output_type": "execute_result"
    }
   ],
   "source": [
    "fashion_review['rating'].value_counts()"
   ]
  },
  {
   "cell_type": "markdown",
   "metadata": {},
   "source": [
    "We can see that the dataset is imbalanced as there are many more positive reviews compared to negative ones"
   ]
  },
  {
   "cell_type": "markdown",
   "metadata": {},
   "source": [
    "### Splitting data for training and testing "
   ]
  },
  {
   "cell_type": "markdown",
   "metadata": {},
   "source": [
    "Splitting data for automotive category"
   ]
  },
  {
   "cell_type": "code",
   "execution_count": 19,
   "metadata": {},
   "outputs": [],
   "source": [
    "X_train_auto, X_test_auto, y_train_auto, y_test_auto = train_test_split(X_auto, y_auto, test_size=0.3, random_state=0)\n"
   ]
  },
  {
   "cell_type": "markdown",
   "metadata": {},
   "source": [
    "Splitting data for cafes category"
   ]
  },
  {
   "cell_type": "code",
   "execution_count": 20,
   "metadata": {},
   "outputs": [],
   "source": [
    "X_train_cafes, X_test_cafes, y_train_cafes, y_test_cafes = train_test_split(X_cafes, y_cafes, test_size=0.3, random_state=0)"
   ]
  },
  {
   "cell_type": "markdown",
   "metadata": {},
   "source": [
    "Splitting data for fashion category"
   ]
  },
  {
   "cell_type": "code",
   "execution_count": 21,
   "metadata": {},
   "outputs": [],
   "source": [
    "X_train_fashion, X_test_fashion, y_train_fashion, y_test_fashion = train_test_split(X_fashion, y_fashion, test_size=0.3, random_state=0)"
   ]
  },
  {
   "cell_type": "markdown",
   "metadata": {},
   "source": [
    "### Creating print_evaulator function which prints the evaluation measures to test the classifier"
   ]
  },
  {
   "cell_type": "code",
   "execution_count": 22,
   "metadata": {},
   "outputs": [],
   "source": [
    "def print_evaluators(test,pred):\n",
    "    print(confusion_matrix(test,pred)) #using confusion_matrix function to print the confusion matrix\n",
    "    print(classification_report(test,pred)) #Using classification_report function to get the summary of how good the classifier is \n",
    "    print(accuracy_score(test, pred)) #Using accuracy_score function to get the overall accuracy\n",
    "    array = confusion_matrix(test,pred)\n",
    "    df_cm = pd.DataFrame(array, range(2), range(2))\n",
    "    # plt.figure(figsize=(10,7))\n",
    "    sn.set(font_scale=1.4) # for label size\n",
    "    sn.heatmap(df_cm, annot=True, annot_kws={\"size\": 15}) # font size\n",
    "\n",
    "    plt.show()"
   ]
  },
  {
   "cell_type": "markdown",
   "metadata": {},
   "source": [
    "# <font color='red'> TRAINING ON AUTOMOTIVE CATEGORY AND EVALUATING </font>\n",
    "---\n",
    "#### Using RandomForest Classifier"
   ]
  },
  {
   "cell_type": "markdown",
   "metadata": {},
   "source": [
    "Initializing Random Forest Classifier for training classifier using automotive reviews "
   ]
  },
  {
   "cell_type": "code",
   "execution_count": 23,
   "metadata": {},
   "outputs": [],
   "source": [
    "classifier_auto = RandomForestClassifier(n_estimators=1000, random_state=0) #Initializing classifier"
   ]
  },
  {
   "cell_type": "code",
   "execution_count": 24,
   "metadata": {},
   "outputs": [
    {
     "data": {
      "text/plain": [
       "RandomForestClassifier(bootstrap=True, class_weight=None, criterion='gini',\n",
       "                       max_depth=None, max_features='auto', max_leaf_nodes=None,\n",
       "                       min_impurity_decrease=0.0, min_impurity_split=None,\n",
       "                       min_samples_leaf=1, min_samples_split=2,\n",
       "                       min_weight_fraction_leaf=0.0, n_estimators=1000,\n",
       "                       n_jobs=None, oob_score=False, random_state=0, verbose=0,\n",
       "                       warm_start=False)"
      ]
     },
     "execution_count": 24,
     "metadata": {},
     "output_type": "execute_result"
    }
   ],
   "source": [
    "classifier_auto.fit(X_train_auto, y_train_auto)  #Training classifier with automotive reviews"
   ]
  },
  {
   "cell_type": "markdown",
   "metadata": {},
   "source": [
    "## Evaluating Automotive Classifier with Automotive test data"
   ]
  },
  {
   "cell_type": "code",
   "execution_count": 25,
   "metadata": {},
   "outputs": [],
   "source": [
    "y_pred_auto = classifier_auto.predict(X_test_auto) "
   ]
  },
  {
   "cell_type": "code",
   "execution_count": 26,
   "metadata": {},
   "outputs": [
    {
     "name": "stdout",
     "output_type": "stream",
     "text": [
      "[[190  53]\n",
      " [ 18 339]]\n",
      "              precision    recall  f1-score   support\n",
      "\n",
      "    negative       0.91      0.78      0.84       243\n",
      "    positive       0.86      0.95      0.91       357\n",
      "\n",
      "    accuracy                           0.88       600\n",
      "   macro avg       0.89      0.87      0.87       600\n",
      "weighted avg       0.88      0.88      0.88       600\n",
      "\n",
      "0.8816666666666667\n"
     ]
    },
    {
     "data": {
      "image/png": "[encoded data removed]",
      "text/plain": [
       "<Figure size 432x288 with 2 Axes>"
      ]
     },
     "metadata": {},
     "output_type": "display_data"
    }
   ],
   "source": [
    "print_evaluators(y_test_auto,y_pred_auto) #printing evaluation measures "
   ]
  },
  {
   "cell_type": "markdown",
   "metadata": {},
   "source": [
    "### Evaluation measures considered \n",
    "#### Accuracy: Which is the ratio of number of correct predictions by the total number of predictions \n",
    "#### Precision: Which is the number of true positives divided by the sum of true positives and false positives \n",
    "#### Recall: Which is the number of true positives divided by the sum of true positives and false negatives\n",
    "#### F1 score: Which is the harmonic mean of Precision and Recall\n",
    "---"
   ]
  },
  {
   "cell_type": "markdown",
   "metadata": {},
   "source": [
    "### Interpreting Results\n",
    "We get an overall accuracy of 88% when we test it with the automotive reviews itself\n",
    "\n",
    "If we check the confusion matrix we get the corresponding values \n",
    "\n",
    "TP = 339 which means 339 reviews were predicted positive and were actually positive\n",
    "\n",
    "TN = 190 which means 190 reviews were predicted negative and were actually negative\n",
    "\n",
    "FP = 18 which means 18 reviews were predicted positive but were actually negative\n",
    "\n",
    "FN = 53 which means 53 reviews were predicted negative but were actually positive\n",
    "\n",
    "We also calculate the average F1 score for the classifier as only accuracy is not a good measure because the dataset is imbalanced as mentioned above\n",
    "\n",
    "We get the average F1 score as 0.88\n",
    "\n",
    "So overall the classifer worked well on automotive data"
   ]
  },
  {
   "cell_type": "markdown",
   "metadata": {},
   "source": [
    "## Evaluating Automotive Classifier with Cafes test data"
   ]
  },
  {
   "cell_type": "code",
   "execution_count": 27,
   "metadata": {},
   "outputs": [],
   "source": [
    "y_pred_auto_cafes = classifier_auto.predict(X_test_cafes)"
   ]
  },
  {
   "cell_type": "code",
   "execution_count": 28,
   "metadata": {},
   "outputs": [
    {
     "name": "stdout",
     "output_type": "stream",
     "text": [
      "[[ 35 103]\n",
      " [ 76 386]]\n",
      "              precision    recall  f1-score   support\n",
      "\n",
      "    negative       0.32      0.25      0.28       138\n",
      "    positive       0.79      0.84      0.81       462\n",
      "\n",
      "    accuracy                           0.70       600\n",
      "   macro avg       0.55      0.54      0.55       600\n",
      "weighted avg       0.68      0.70      0.69       600\n",
      "\n",
      "0.7016666666666667\n"
     ]
    },
    {
     "data": {
      "image/png": "[encoded data removed]",
      "text/plain": [
       "<Figure size 432x288 with 2 Axes>"
      ]
     },
     "metadata": {},
     "output_type": "display_data"
    }
   ],
   "source": [
    "print_evaluators(y_test_cafes,y_pred_auto_cafes)#printing evaluation measures "
   ]
  },
  {
   "cell_type": "markdown",
   "metadata": {},
   "source": [
    "### Interpreting Results\n",
    "We get an overall accuracy of 70% when we test it with the cafes reviews \n",
    "\n",
    "If we check the confusion matrix we get the corresponding values\n",
    "\n",
    "TP = 386 which means 386 reviews were predicted positive and were actually positive\n",
    "\n",
    "TN = 35 which means 35 reviews were predicted negative and were actually negative\n",
    "\n",
    "FP = 76 which means 76 reviews were predicted positive but were actually negative\n",
    "\n",
    "FN = 103 which means 103 reviews were predicted negative but were actually positive\n",
    "\n",
    "Average F1 score = 0.69\n",
    "\n",
    "Overall there were many wrong predictions by the classifier on the cafes dataset, but still, the classifer worked well"
   ]
  },
  {
   "cell_type": "markdown",
   "metadata": {},
   "source": [
    "## Evaluating Automotive Classifier with Fashion test data"
   ]
  },
  {
   "cell_type": "code",
   "execution_count": 29,
   "metadata": {},
   "outputs": [],
   "source": [
    "y_pred_auto_fashion = classifier_auto.predict(X_test_fashion)"
   ]
  },
  {
   "cell_type": "code",
   "execution_count": 30,
   "metadata": {},
   "outputs": [
    {
     "name": "stdout",
     "output_type": "stream",
     "text": [
      "[[ 45 198]\n",
      " [ 47 310]]\n",
      "              precision    recall  f1-score   support\n",
      "\n",
      "    negative       0.49      0.19      0.27       243\n",
      "    positive       0.61      0.87      0.72       357\n",
      "\n",
      "    accuracy                           0.59       600\n",
      "   macro avg       0.55      0.53      0.49       600\n",
      "weighted avg       0.56      0.59      0.54       600\n",
      "\n",
      "0.5916666666666667\n"
     ]
    },
    {
     "data": {
      "image/png": "[encoded data removed]",
      "text/plain": [
       "<Figure size 432x288 with 2 Axes>"
      ]
     },
     "metadata": {},
     "output_type": "display_data"
    }
   ],
   "source": [
    "print_evaluators(y_test_fashion,y_pred_auto_fashion) #printing evaluation measures "
   ]
  },
  {
   "cell_type": "markdown",
   "metadata": {},
   "source": [
    "### Interpreting Results\n",
    "We get an overall accuracy of 59% when we test it with the fashion reviews\n",
    "\n",
    "If we check the confusion matrix we get the corresponding values\n",
    "\n",
    "TP = 310 which means 310 reviews were predicted positive and were actually positive\n",
    "\n",
    "TN = 45 which means 45 reviews were predicted negative and were actually negative\n",
    "\n",
    "FP = 47 which means 47 reviews were predicted positive but were actually negative\n",
    "\n",
    "FN = 198 which means 198 reviews were predicted negative but were actually positive\n",
    "\n",
    "We get the average F1 score as 0.54\n",
    "\n",
    "For the fashion dataset we had a large number of False Negatives and a very low F1 score, hence the classifer performed poorly for this dataset"
   ]
  },
  {
   "cell_type": "markdown",
   "metadata": {},
   "source": [
    "# <font color='red'> TRAINING ON CAFES CATEGORY AND EVALUATING </font>\n",
    "---"
   ]
  },
  {
   "cell_type": "markdown",
   "metadata": {},
   "source": [
    "Initializing Random Forest Classifier for training classifier using cafes reviews"
   ]
  },
  {
   "cell_type": "code",
   "execution_count": 31,
   "metadata": {},
   "outputs": [],
   "source": [
    "classifier_cafes = RandomForestClassifier(n_estimators=1000, random_state=0) #Initializing classifier "
   ]
  },
  {
   "cell_type": "code",
   "execution_count": 32,
   "metadata": {},
   "outputs": [
    {
     "data": {
      "text/plain": [
       "RandomForestClassifier(bootstrap=True, class_weight=None, criterion='gini',\n",
       "                       max_depth=None, max_features='auto', max_leaf_nodes=None,\n",
       "                       min_impurity_decrease=0.0, min_impurity_split=None,\n",
       "                       min_samples_leaf=1, min_samples_split=2,\n",
       "                       min_weight_fraction_leaf=0.0, n_estimators=1000,\n",
       "                       n_jobs=None, oob_score=False, random_state=0, verbose=0,\n",
       "                       warm_start=False)"
      ]
     },
     "execution_count": 32,
     "metadata": {},
     "output_type": "execute_result"
    }
   ],
   "source": [
    "classifier_cafes.fit(X_train_cafes, y_train_cafes) #Training classifier with cafes review"
   ]
  },
  {
   "cell_type": "markdown",
   "metadata": {},
   "source": [
    "## Evaluating Cafes Classifier with Cafes test data"
   ]
  },
  {
   "cell_type": "code",
   "execution_count": 33,
   "metadata": {},
   "outputs": [],
   "source": [
    "y_pred_cafes = classifier_cafes.predict(X_test_cafes)"
   ]
  },
  {
   "cell_type": "code",
   "execution_count": 34,
   "metadata": {},
   "outputs": [
    {
     "name": "stdout",
     "output_type": "stream",
     "text": [
      "[[ 62  76]\n",
      " [ 10 452]]\n",
      "              precision    recall  f1-score   support\n",
      "\n",
      "    negative       0.86      0.45      0.59       138\n",
      "    positive       0.86      0.98      0.91       462\n",
      "\n",
      "    accuracy                           0.86       600\n",
      "   macro avg       0.86      0.71      0.75       600\n",
      "weighted avg       0.86      0.86      0.84       600\n",
      "\n",
      "0.8566666666666667\n"
     ]
    },
    {
     "data": {
      "image/png": "[encoded data removed]",
      "text/plain": [
       "<Figure size 432x288 with 2 Axes>"
      ]
     },
     "metadata": {},
     "output_type": "display_data"
    }
   ],
   "source": [
    "print_evaluators(y_test_cafes,y_pred_cafes) #printing evaluation measures "
   ]
  },
  {
   "cell_type": "markdown",
   "metadata": {},
   "source": [
    "### Interpreting Results\n",
    "We get an overall accuracy of 85% when we test it with the cafes reviews itself\n",
    "\n",
    "If we check the confusion matrix we get the corresponding values\n",
    "\n",
    "TP = 452 which means 452 reviews were predicted positive and were actually positive\n",
    "\n",
    "TN = 62 which means 62 reviews were predicted negative and were actually negative\n",
    "\n",
    "FP = 10 which means 10 reviews were predicted positive but were actually negative\n",
    "\n",
    "FN = 76 which means 76 reviews were predicted negative but were actually positive\n",
    "\n",
    "Average F1 score = 0.84\n",
    "\n",
    "We get a high accuracy and F1 score, hence the classifier worked well on this data as expected"
   ]
  },
  {
   "cell_type": "markdown",
   "metadata": {},
   "source": [
    "## Evaluating Cafes Classifier with automotive test data"
   ]
  },
  {
   "cell_type": "code",
   "execution_count": 35,
   "metadata": {},
   "outputs": [],
   "source": [
    "y_pred_cafes_auto = classifier_cafes.predict(X_test_auto)"
   ]
  },
  {
   "cell_type": "code",
   "execution_count": 36,
   "metadata": {},
   "outputs": [
    {
     "name": "stdout",
     "output_type": "stream",
     "text": [
      "[[ 12 231]\n",
      " [ 14 343]]\n",
      "              precision    recall  f1-score   support\n",
      "\n",
      "    negative       0.46      0.05      0.09       243\n",
      "    positive       0.60      0.96      0.74       357\n",
      "\n",
      "    accuracy                           0.59       600\n",
      "   macro avg       0.53      0.51      0.41       600\n",
      "weighted avg       0.54      0.59      0.47       600\n",
      "\n",
      "0.5916666666666667\n"
     ]
    },
    {
     "data": {
      "image/png": "[encoded data removed]",
      "text/plain": [
       "<Figure size 432x288 with 2 Axes>"
      ]
     },
     "metadata": {},
     "output_type": "display_data"
    }
   ],
   "source": [
    "print_evaluators(y_test_auto,y_pred_cafes_auto) #printing evaluation measures \n"
   ]
  },
  {
   "cell_type": "markdown",
   "metadata": {},
   "source": [
    "### Interpreting results \n",
    "We get an overall accuracy of 59% when we test it with the automotive reviews \n",
    "\n",
    "If we check the confusion matrix we get the corresponding values\n",
    "\n",
    "TP = 343 which means 343 reviews were predicted positive and were actually positive\n",
    "\n",
    "TN = 12 which means 12 reviews were predicted negative and were actually negative\n",
    "\n",
    "FP = 14 which means 14 reviews were predicted positive but were actually negative\n",
    "\n",
    "FN = 231 which means 231 reviews were predicted negative but were actually positive\n",
    "\n",
    "Average F1 score = 0.47\n",
    "\n",
    "We can see that there is a large number of False Negatives and hence we get a very low F1 score, Overall the classifer performed very poorly on this dataset"
   ]
  },
  {
   "cell_type": "markdown",
   "metadata": {},
   "source": [
    "## Evaluating Cafes Classifier with Fashion test data"
   ]
  },
  {
   "cell_type": "code",
   "execution_count": 37,
   "metadata": {},
   "outputs": [],
   "source": [
    "y_pred_cafes_fashion = classifier_cafes.predict(X_test_fashion)"
   ]
  },
  {
   "cell_type": "code",
   "execution_count": 38,
   "metadata": {},
   "outputs": [
    {
     "name": "stdout",
     "output_type": "stream",
     "text": [
      "[[  6 237]\n",
      " [ 12 345]]\n",
      "              precision    recall  f1-score   support\n",
      "\n",
      "    negative       0.33      0.02      0.05       243\n",
      "    positive       0.59      0.97      0.73       357\n",
      "\n",
      "    accuracy                           0.58       600\n",
      "   macro avg       0.46      0.50      0.39       600\n",
      "weighted avg       0.49      0.58      0.46       600\n",
      "\n",
      "0.585\n"
     ]
    },
    {
     "data": {
      "image/png": "[encoded data removed]",
      "text/plain": [
       "<Figure size 432x288 with 2 Axes>"
      ]
     },
     "metadata": {},
     "output_type": "display_data"
    }
   ],
   "source": [
    "print_evaluators(y_test_fashion,y_pred_cafes_fashion) #printing evaluation measures "
   ]
  },
  {
   "cell_type": "markdown",
   "metadata": {},
   "source": [
    "### Interpreting Results \n",
    "We get an overall accuracy of 58% when we test it with the fashion reviews \n",
    "\n",
    "If we check the confusion matrix we get the corresponding values\n",
    "\n",
    "TP = 345 which means 345 reviews were predicted positive and were actually positive\n",
    "\n",
    "TN = 6 which means 6 reviews were predicted negative and were actually negative\n",
    "\n",
    "FP = 12 which means 12 reviews were predicted positive but were actually negative\n",
    "\n",
    "FN = 237 which means 237 reviews were predicted negative but were actually positive\n",
    "\n",
    "Average F1 score = 0.46\n",
    "\n",
    "Again there was a large number of False Negatives and therefore it resulted in a low F1 score and hence the classifiers performance was bad on this dataset too"
   ]
  },
  {
   "cell_type": "markdown",
   "metadata": {},
   "source": [
    "# <font color='red'> TRAINING ON FASHION CATEGORY AND EVALUATING </font>\n",
    "---"
   ]
  },
  {
   "cell_type": "code",
   "execution_count": 39,
   "metadata": {},
   "outputs": [],
   "source": [
    "classifier_fashion = RandomForestClassifier(n_estimators=1000, random_state=0) #Initializing classifier"
   ]
  },
  {
   "cell_type": "code",
   "execution_count": 40,
   "metadata": {},
   "outputs": [
    {
     "data": {
      "text/plain": [
       "RandomForestClassifier(bootstrap=True, class_weight=None, criterion='gini',\n",
       "                       max_depth=None, max_features='auto', max_leaf_nodes=None,\n",
       "                       min_impurity_decrease=0.0, min_impurity_split=None,\n",
       "                       min_samples_leaf=1, min_samples_split=2,\n",
       "                       min_weight_fraction_leaf=0.0, n_estimators=1000,\n",
       "                       n_jobs=None, oob_score=False, random_state=0, verbose=0,\n",
       "                       warm_start=False)"
      ]
     },
     "execution_count": 40,
     "metadata": {},
     "output_type": "execute_result"
    }
   ],
   "source": [
    "classifier_fashion.fit(X_train_fashion, y_train_fashion) #Training classifier with fashion data"
   ]
  },
  {
   "cell_type": "markdown",
   "metadata": {},
   "source": [
    "## Evaluating Fashion Classifier with Fashion test data"
   ]
  },
  {
   "cell_type": "code",
   "execution_count": 41,
   "metadata": {},
   "outputs": [],
   "source": [
    "y_pred_fashion = classifier_fashion.predict(X_test_fashion)"
   ]
  },
  {
   "cell_type": "code",
   "execution_count": 42,
   "metadata": {},
   "outputs": [
    {
     "name": "stdout",
     "output_type": "stream",
     "text": [
      "[[182  61]\n",
      " [ 13 344]]\n",
      "              precision    recall  f1-score   support\n",
      "\n",
      "    negative       0.93      0.75      0.83       243\n",
      "    positive       0.85      0.96      0.90       357\n",
      "\n",
      "    accuracy                           0.88       600\n",
      "   macro avg       0.89      0.86      0.87       600\n",
      "weighted avg       0.88      0.88      0.87       600\n",
      "\n",
      "0.8766666666666667\n"
     ]
    },
    {
     "data": {
      "image/png": "[encoded data removed]",
      "text/plain": [
       "<Figure size 432x288 with 2 Axes>"
      ]
     },
     "metadata": {},
     "output_type": "display_data"
    }
   ],
   "source": [
    "print_evaluators(y_test_fashion,y_pred_fashion) #printing evaluation measures "
   ]
  },
  {
   "cell_type": "markdown",
   "metadata": {},
   "source": [
    "### Interpreting Results \n",
    "We get an overall accuracy of 87.6% when we test it with the fashion reviews itself\n",
    "\n",
    "If we check the confusion matrix we get the corresponding values\n",
    "\n",
    "TP = 344 which means 344 reviews were predicted positive and were actually positive\n",
    "\n",
    "TN = 182 which means 182 reviews were predicted negative and were actually negative\n",
    "\n",
    "FP = 13 which means 13 reviews were predicted positive but were actually negative\n",
    "\n",
    "FN = 61 which means 61 reviews were predicted negative but were actually positive\n",
    "\n",
    "Average F1 score = 0.87\n",
    "\n",
    "Overall the classifier worked very well and had a high accuracy and F1 score"
   ]
  },
  {
   "cell_type": "markdown",
   "metadata": {},
   "source": [
    "## Evaluating Fashion Classifier with Automotive test data"
   ]
  },
  {
   "cell_type": "code",
   "execution_count": 43,
   "metadata": {},
   "outputs": [],
   "source": [
    "y_pred_fashion_auto = classifier_fashion.predict(X_test_auto)"
   ]
  },
  {
   "cell_type": "code",
   "execution_count": 44,
   "metadata": {},
   "outputs": [
    {
     "name": "stdout",
     "output_type": "stream",
     "text": [
      "[[ 21 222]\n",
      " [ 42 315]]\n",
      "              precision    recall  f1-score   support\n",
      "\n",
      "    negative       0.33      0.09      0.14       243\n",
      "    positive       0.59      0.88      0.70       357\n",
      "\n",
      "    accuracy                           0.56       600\n",
      "   macro avg       0.46      0.48      0.42       600\n",
      "weighted avg       0.48      0.56      0.47       600\n",
      "\n",
      "0.56\n"
     ]
    },
    {
     "data": {
      "image/png": "[encoded data removed]",
      "text/plain": [
       "<Figure size 432x288 with 2 Axes>"
      ]
     },
     "metadata": {},
     "output_type": "display_data"
    }
   ],
   "source": [
    "print_evaluators(y_test_auto,y_pred_fashion_auto) #printing evaluation measures "
   ]
  },
  {
   "cell_type": "markdown",
   "metadata": {},
   "source": [
    "### Interpreting Results \n",
    "We get an overall accuracy of 56% when we test it with the automotive data which is very poor\n",
    "\n",
    "If we check the confusion matrix we get the corresponding values\n",
    "\n",
    "TP = 315 which means 315 reviews were predicted positive and were actually positive\n",
    "\n",
    "TN = 21 which means 21 reviews were predicted negative and were actually negative\n",
    "\n",
    "FP = 42 which means 42 reviews were predicted positive but were actually negative\n",
    "\n",
    "FN = 222 which means 222 reviews were predicted negative but were actually positive\n",
    "\n",
    "Average F1 score = 0.47\n",
    "\n",
    "We get a very high number of False Negatives and a very low F1 Score and Overall the classifier worked very poorly on this dataset"
   ]
  },
  {
   "cell_type": "markdown",
   "metadata": {},
   "source": [
    "## Evaluating Fashion Classifier with Cafes test data"
   ]
  },
  {
   "cell_type": "code",
   "execution_count": 45,
   "metadata": {},
   "outputs": [],
   "source": [
    "y_pred_fashion_cafes = classifier_fashion.predict(X_test_cafes)"
   ]
  },
  {
   "cell_type": "code",
   "execution_count": 46,
   "metadata": {},
   "outputs": [
    {
     "name": "stdout",
     "output_type": "stream",
     "text": [
      "[[ 21 117]\n",
      " [ 54 408]]\n",
      "              precision    recall  f1-score   support\n",
      "\n",
      "    negative       0.28      0.15      0.20       138\n",
      "    positive       0.78      0.88      0.83       462\n",
      "\n",
      "    accuracy                           0.71       600\n",
      "   macro avg       0.53      0.52      0.51       600\n",
      "weighted avg       0.66      0.71      0.68       600\n",
      "\n",
      "0.715\n"
     ]
    },
    {
     "data": {
      "image/png": "[encoded data removed]",
      "text/plain": [
       "<Figure size 432x288 with 2 Axes>"
      ]
     },
     "metadata": {},
     "output_type": "display_data"
    }
   ],
   "source": [
    "print_evaluators(y_test_cafes,y_pred_fashion_cafes) #printing evaluation measures "
   ]
  },
  {
   "cell_type": "markdown",
   "metadata": {},
   "source": [
    "### Interpreting Results \n",
    "We get an overall accuracy of 71.5% when we test it with the cafes reviews\n",
    "\n",
    "If we check the confusion matrix we get the corresponding values\n",
    "\n",
    "TP = 408 which means 408 reviews were predicted positive and were actually positive\n",
    "\n",
    "TN = 21 which means 21 reviews were predicted negative and were actually negative\n",
    "\n",
    "FP =54 which means 54 reviews were predicted positive but were actually negative\n",
    "\n",
    "FN = 117 which means 117 reviews were predicted negative but were actually positive\n",
    "\n",
    "Average F1 score = 0.68\n",
    "\n",
    "Overall the classifier worked well even though this classifier was tested on a different dataset but the F1 score was a bit poor."
   ]
  }
 ],
 "metadata": {
  "kernelspec": {
   "display_name": "Python 3",
   "language": "python",
   "name": "python3"
  },
  "language_info": {
   "codemirror_mode": {
    "name": "ipython",
    "version": 3
   },
   "file_extension": ".py",
   "mimetype": "text/x-python",
   "name": "python",
   "nbconvert_exporter": "python",
   "pygments_lexer": "ipython3",
   "version": "3.7.4"
  }
 },
 "nbformat": 4,
 "nbformat_minor": 2
}
